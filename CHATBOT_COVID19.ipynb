{
 "cells": [
  {
   "cell_type": "markdown",
   "metadata": {},
   "source": [
    "## WHO questions & answers new coronavirus (COVID-19)\n",
    "\n",
    "In connection with the coronavirus and the many questions on this subject, I have created a dataset with frequently asked questions and answers from the world health organisation (WHO). The questions come from this website: https://www.who.int/news-room/q-a-detail/q-a-coronaviruses\n",
    "\n",
    "On this website you can find an answer to a question you have regarding the corona virus fairly quickly. However, with a chatbot it could go a lot faster. You simply ask your question and immediatly receive a corresponding answer. \n",
    "\n",
    "In the code below, I first load the dataset that contains the answers under \"Answer\" and the context of the answers under \"Context\". These columns should be interpreted as follows:\n",
    "- `Answer` is a possible answer to a question.\n",
    "- `Context` is a possible context in which the answer may apply."
   ]
  },
  {
   "cell_type": "code",
   "execution_count": 6,
   "metadata": {},
   "outputs": [
    {
     "data": {
      "text/html": [
       "<div>\n",
       "<style scoped>\n",
       "    .dataframe tbody tr th:only-of-type {\n",
       "        vertical-align: middle;\n",
       "    }\n",
       "\n",
       "    .dataframe tbody tr th {\n",
       "        vertical-align: top;\n",
       "    }\n",
       "\n",
       "    .dataframe thead th {\n",
       "        text-align: right;\n",
       "    }\n",
       "</style>\n",
       "<table border=\"1\" class=\"dataframe\">\n",
       "  <thead>\n",
       "    <tr style=\"text-align: right;\">\n",
       "      <th></th>\n",
       "      <th>Context</th>\n",
       "      <th>Answer</th>\n",
       "    </tr>\n",
       "  </thead>\n",
       "  <tbody>\n",
       "    <tr>\n",
       "      <th>0</th>\n",
       "      <td>What is a coronavirus?</td>\n",
       "      <td>Coronaviruses are a large family of viruses which may cause illness in animals or humans.</td>\n",
       "    </tr>\n",
       "    <tr>\n",
       "      <th>1</th>\n",
       "      <td>What is a coronavirus?</td>\n",
       "      <td>In humans, several coronaviruses are known to cause respiratory infections ranging from the comm...</td>\n",
       "    </tr>\n",
       "    <tr>\n",
       "      <th>2</th>\n",
       "      <td>What is COVID-19?</td>\n",
       "      <td>COVID-19 is the infectious disease caused by the most recently discovered coronavirus. This new ...</td>\n",
       "    </tr>\n",
       "    <tr>\n",
       "      <th>3</th>\n",
       "      <td>What are the symptoms of COVID-19?</td>\n",
       "      <td>The most common symptoms of COVID-19 are fever, tiredness, and dry cough. Some patients may have...</td>\n",
       "    </tr>\n",
       "    <tr>\n",
       "      <th>4</th>\n",
       "      <td>What are the symptoms of COVID-19?</td>\n",
       "      <td>Some people become infected but don’t develop any symptoms and don't feel unwell. Most people (a...</td>\n",
       "    </tr>\n",
       "  </tbody>\n",
       "</table>\n",
       "</div>"
      ],
      "text/plain": [
       "                              Context  \\\n",
       "0              What is a coronavirus?   \n",
       "1              What is a coronavirus?   \n",
       "2                   What is COVID-19?   \n",
       "3  What are the symptoms of COVID-19?   \n",
       "4  What are the symptoms of COVID-19?   \n",
       "\n",
       "                                                                                                Answer  \n",
       "0           Coronaviruses are a large family of viruses which may cause illness in animals or humans.   \n",
       "1  In humans, several coronaviruses are known to cause respiratory infections ranging from the comm...  \n",
       "2  COVID-19 is the infectious disease caused by the most recently discovered coronavirus. This new ...  \n",
       "3  The most common symptoms of COVID-19 are fever, tiredness, and dry cough. Some patients may have...  \n",
       "4  Some people become infected but don’t develop any symptoms and don't feel unwell. Most people (a...  "
      ]
     },
     "execution_count": 6,
     "metadata": {},
     "output_type": "execute_result"
    }
   ],
   "source": [
    "import numpy as np\n",
    "import pandas as pd\n",
    "\n",
    "# dataset coronavirus WHO\n",
    "pd.set_option('max_colwidth', 100)  # Increase column width\n",
    "data = pd.read_excel(\"WHO_FAQ.xlsx\", encoding='utf8')\n",
    "data.head()"
   ]
  },
  {
   "cell_type": "markdown",
   "metadata": {},
   "source": [
    "To use these answers for a chatbot, we will first calculate the corresponding answer encodings."
   ]
  },
  {
   "cell_type": "markdown",
   "metadata": {},
   "source": [
    "### Universal Sentence Encoder Multilingual\n",
    "\n",
    "Now we can use the USE to create sentence encodings for the possible answers with context and the questions! \n",
    "\n",
    "To do so we load the module containing the USE, you can find this here: https://tfhub.dev/google/universal-sentence-encoder-multilingual-qa/3"
   ]
  },
  {
   "cell_type": "code",
   "execution_count": 2,
   "metadata": {},
   "outputs": [],
   "source": [
    "##### Use USE pretrained model to extract response encodings.\n",
    "import tensorflow as tf\n",
    "import tensorflow_hub as hub\n",
    "import tensorflow_text\n",
    "import re\n",
    "\n",
    "def preprocess_sentences(input_sentences):\n",
    "    return [re.sub(r'(covid-19|covid)', 'coronavirus', input_sentence, flags=re.I) \n",
    "            for input_sentence in input_sentences]\n",
    "        \n",
    "# Load module containing USE\n",
    "module = hub.load('https://tfhub.dev/google/universal-sentence-encoder-multilingual-qa/3')\n",
    "\n",
    "# Create response embeddings\n",
    "response_encodings = module.signatures['response_encoder'](\n",
    "        input=tf.constant(preprocess_sentences(data.Answer)),\n",
    "        context=tf.constant(preprocess_sentences(data.Context)))['outputs']"
   ]
  },
  {
   "cell_type": "markdown",
   "metadata": {},
   "source": [
    "Now it is time to test!\n",
    "\n",
    "The sentence encoding for the question is made in the variable `question_encodings`. Based on this, we choose the most representative answer. \n",
    "\n",
    "As described in the blog, the most representative answer is the one whose embedding minimizes the angle with the question embedding. This is equivalent to determining the maximum cosine of the angle, but since each embedding is already a vector of length 1, we only need to determine the maximum of the internal product. In the code below, that's the line:\n",
    "\n",
    "``np.argmax(np.inner(question_encodings, response_encodings), axis=1)``"
   ]
  },
  {
   "cell_type": "code",
   "execution_count": 5,
   "metadata": {},
   "outputs": [
    {
     "data": {
      "text/html": [
       "<div>\n",
       "<style scoped>\n",
       "    .dataframe tbody tr th:only-of-type {\n",
       "        vertical-align: middle;\n",
       "    }\n",
       "\n",
       "    .dataframe tbody tr th {\n",
       "        vertical-align: top;\n",
       "    }\n",
       "\n",
       "    .dataframe thead th {\n",
       "        text-align: right;\n",
       "    }\n",
       "</style>\n",
       "<table border=\"1\" class=\"dataframe\">\n",
       "  <thead>\n",
       "    <tr style=\"text-align: right;\">\n",
       "      <th></th>\n",
       "      <th>Test Questions</th>\n",
       "      <th>Test Responses</th>\n",
       "    </tr>\n",
       "  </thead>\n",
       "  <tbody>\n",
       "    <tr>\n",
       "      <th>65</th>\n",
       "      <td>What about pregnant women?</td>\n",
       "      <td>due to changes in their bodies and immune systems, we know that pregnant women can be badly affe...</td>\n",
       "    </tr>\n",
       "    <tr>\n",
       "      <th>44</th>\n",
       "      <td>Wat is de lengte van de incubatietijd?</td>\n",
       "      <td>Most estimates of the incubation period for COVID-19 range from 1-14 days, most commonly around ...</td>\n",
       "    </tr>\n",
       "    <tr>\n",
       "      <th>45</th>\n",
       "      <td>Are animals contagious COVID-19?</td>\n",
       "      <td>Coronaviruses are a large family of viruses that are common in animals. Occasionally, people get...</td>\n",
       "    </tr>\n",
       "    <tr>\n",
       "      <th>32</th>\n",
       "      <td>Are there medicine against the coronavirus?</td>\n",
       "      <td>Not yet. To date, there is no vaccine and no specific antiviral medicine to prevent or treat COV...</td>\n",
       "    </tr>\n",
       "    <tr>\n",
       "      <th>72</th>\n",
       "      <td>Can I breastfead when I have COVID-19?</td>\n",
       "      <td>Yes. Women with COVID-19 can breastfeed if they wish to do so.</td>\n",
       "    </tr>\n",
       "    <tr>\n",
       "      <th>17</th>\n",
       "      <td>Should I stay inside the house?</td>\n",
       "      <td>Stay home if you feel unwell. If you have a fever, cough and difficulty breathing, seek medical ...</td>\n",
       "    </tr>\n",
       "    <tr>\n",
       "      <th>18</th>\n",
       "      <td>Kann ich mit meinem Hund spazieren gehen?</td>\n",
       "      <td>If possible, avoid traveling to places  – especially if you are an older person or have diabetes...</td>\n",
       "    </tr>\n",
       "  </tbody>\n",
       "</table>\n",
       "</div>"
      ],
      "text/plain": [
       "                                 Test Questions  \\\n",
       "65                   What about pregnant women?   \n",
       "44       Wat is de lengte van de incubatietijd?   \n",
       "45             Are animals contagious COVID-19?   \n",
       "32  Are there medicine against the coronavirus?   \n",
       "72       Can I breastfead when I have COVID-19?   \n",
       "17              Should I stay inside the house?   \n",
       "18    Kann ich mit meinem Hund spazieren gehen?   \n",
       "\n",
       "                                                                                         Test Responses  \n",
       "65  due to changes in their bodies and immune systems, we know that pregnant women can be badly affe...  \n",
       "44  Most estimates of the incubation period for COVID-19 range from 1-14 days, most commonly around ...  \n",
       "45  Coronaviruses are a large family of viruses that are common in animals. Occasionally, people get...  \n",
       "32  Not yet. To date, there is no vaccine and no specific antiviral medicine to prevent or treat COV...  \n",
       "72                                       Yes. Women with COVID-19 can breastfeed if they wish to do so.  \n",
       "17  Stay home if you feel unwell. If you have a fever, cough and difficulty breathing, seek medical ...  \n",
       "18  If possible, avoid traveling to places  – especially if you are an older person or have diabetes...  "
      ]
     },
     "execution_count": 5,
     "metadata": {},
     "output_type": "execute_result"
    }
   ],
   "source": [
    "test_questions = [\n",
    "    \"What about pregnant women?\",\n",
    "    \"Wat is de lengte van de incubatietijd?\",\n",
    "    \"Are animals contagious COVID-19?\",\n",
    "    \"Are there medicine against the coronavirus?\",\n",
    "    \"Can I breastfead when I have COVID-19?\",\n",
    "    \"Should I stay inside the house?\",  # English questions are also possible.\n",
    "    \"Kann ich mit meinem Hund spazieren gehen?\"  # As well as German, and all the other languages supported by use-multilingual.\n",
    "]\n",
    "\n",
    "# Create encodings for test questions\n",
    "question_encodings = module.signatures['question_encoder'](\n",
    "    tf.constant(preprocess_sentences(test_questions))\n",
    ")['outputs']\n",
    "\n",
    "# Get the responses\n",
    "test_responses = data.Answer[np.argmax(np.inner(question_encodings, response_encodings), axis=1)]\n",
    "\n",
    "# Show them in a dataframe\n",
    "pd.DataFrame({'Test Questions': test_questions, 'Test Responses': test_responses})"
   ]
  },
  {
   "cell_type": "markdown",
   "metadata": {},
   "source": [
    "### Conclusion\n",
    "\n",
    "As you can see, the chatbot gives correct answers to questions in multiple languages! The reason we need to replace COVID-19 in the coronavirus dataset is because the model has never seen the word COVID-19 before (it did see coronavirus).\n",
    "\n",
    "Feel free to test multiple questions, you can do this by adding a question to `test_questions`.\n",
    "\n",
    "For further questions you could always [contact us directly](mailto:gunjanshah.254@gmail.com)!"
   ]
  },
  {
   "cell_type": "code",
   "execution_count": null,
   "metadata": {},
   "outputs": [],
   "source": []
  }
 ],
 "metadata": {
  "kernelspec": {
   "display_name": "Python 3",
   "language": "python",
   "name": "python3"
  },
  "language_info": {
   "codemirror_mode": {
    "name": "ipython",
    "version": 3
   },
   "file_extension": ".py",
   "mimetype": "text/x-python",
   "name": "python",
   "nbconvert_exporter": "python",
   "pygments_lexer": "ipython3",
   "version": "3.7.4"
  }
 },
 "nbformat": 4,
 "nbformat_minor": 4
}
